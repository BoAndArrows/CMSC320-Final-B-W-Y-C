{
 "cells": [
  {
   "cell_type": "markdown",
   "id": "8e39a5b2",
   "metadata": {},
   "source": [
    "# Analysis of the White Fronted Goose (Anser albifrons) and Associated Subspecies\n",
    "\n",
    "Author: Waley Wang\n"
   ]
  },
  {
   "cell_type": "code",
   "execution_count": 31,
   "id": "99961641",
   "metadata": {},
   "outputs": [],
   "source": [
    "#\n",
    "# Import nessesary libraries and do nessesary non-df related prepwork\n",
    "#\n",
    "\n",
    "import numpy as np\n",
    "import pandas as pd\n",
    "\n",
    "import warnings\n",
    "\n",
    "\n",
    "# Supress warning related to data types (will get on first import of the csv file)\n",
    "warnings.filterwarnings(\"ignore\", category=pd.errors.DtypeWarning)"
   ]
  },
  {
   "cell_type": "markdown",
   "id": "7bed5f07",
   "metadata": {},
   "source": [
    "Import and trim relevant data. This notebook focuses only on data related to the Anser albifrons (species id: 1710) and its subspecies Anser albifrons elgasi (species id: 1719). This roughly corresponds to $222,322$ rows of data."
   ]
  },
  {
   "cell_type": "code",
   "execution_count": 32,
   "id": "e7744b32",
   "metadata": {},
   "outputs": [
    {
     "data": {
      "text/plain": [
       "RECORD_ID          222322\n",
       "EVENT_TYPE         222322\n",
       "BAND               222322\n",
       "ORIGINAL_BAND      222322\n",
       "OTHER_BANDS           900\n",
       "EVENT_DATE         222322\n",
       "EVENT_DAY          222322\n",
       "EVENT_MONTH        222322\n",
       "EVENT_YEAR         222322\n",
       "SPECIES_ID         222322\n",
       "ISO_COUNTRY        222322\n",
       "ISO_SUBDIVISION    220769\n",
       "LAT_DD             222099\n",
       "LON_DD             222099\n",
       "COORD_PREC         222263\n",
       "BIRD_STATUS        187292\n",
       "PERMIT             187344\n",
       "BAND_STATUS        185695\n",
       "BAND_TYPE          222322\n",
       "dtype: int64"
      ]
     },
     "metadata": {},
     "output_type": "display_data"
    }
   ],
   "source": [
    "# Retrieve group 1 data from the relevant CSV file\n",
    "goose_data = pd.read_csv('Bird_Banding_Data/NABBP_2023_grp_01.csv')\n",
    "\n",
    "# Filter out all irrelevant species\n",
    "goose_data = goose_data[(goose_data['SPECIES_ID'] == 1710) | (goose_data['SPECIES_ID'] == 1719)]\n",
    "\n",
    "# Retrieve all relevant columns\n",
    "goose_data = goose_data[['RECORD_ID', \n",
    "                         'EVENT_TYPE', \n",
    "                         'BAND', \n",
    "                         'ORIGINAL_BAND', \n",
    "                         'OTHER_BANDS', \n",
    "                         'EVENT_DATE', \n",
    "                         'EVENT_DAY', \n",
    "                         'EVENT_MONTH', \n",
    "                         'EVENT_YEAR', \n",
    "                         'SPECIES_ID', \n",
    "                         'ISO_COUNTRY', \n",
    "                         'ISO_SUBDIVISION', \n",
    "                         'LAT_DD', \n",
    "                         'LON_DD', \n",
    "                         'COORD_PREC', \n",
    "                         'BIRD_STATUS', \n",
    "                         'PERMIT', \n",
    "                         'BAND_STATUS', \n",
    "                         'BAND_TYPE']]\n",
    "\n",
    "display(goose_data.count())"
   ]
  },
  {
   "cell_type": "markdown",
   "id": "30cc39d4",
   "metadata": {},
   "source": [
    "A large number of the date cells (~ 5,000) do not work with the `pd.to_datetime()` function. Since this is vital information for the analysis, the below cell aims specifically to clean the dates and remove any unessesary columns after. The following is the process by which dates are chosen.\n",
    "\n",
    "1. If the `'EVENT_DATE'` column already has a valid date that works with `pd.to_datetime()`, it will be the date used.\n",
    "2. Otherwise if the `'EVENT_DAY'`, `'EVENT_MONTH'`, and `'EVENT_YEAR'` column all form a date that works with `pd.to_datetime()`, it will be the date used.\n",
    "3. If neither of the above work, `NaT` will be assigned and the row will be dropped."
   ]
  },
  {
   "cell_type": "code",
   "execution_count": null,
   "id": "91df095d",
   "metadata": {},
   "outputs": [
    {
     "name": "stdout",
     "output_type": "stream",
     "text": [
      "RECORD_ID                   int64\n",
      "EVENT_TYPE                 object\n",
      "BAND                       object\n",
      "ORIGINAL_BAND              object\n",
      "OTHER_BANDS                object\n",
      "EVENT_DATE         datetime64[ns]\n",
      "SPECIES_ID                  int64\n",
      "ISO_COUNTRY                object\n",
      "ISO_SUBDIVISION            object\n",
      "LAT_DD                    float64\n",
      "LON_DD                    float64\n",
      "COORD_PREC                float64\n",
      "BIRD_STATUS               float64\n",
      "PERMIT                     object\n",
      "BAND_STATUS               float64\n",
      "BAND_TYPE                  object\n",
      "dtype: object\n"
     ]
    }
   ],
   "source": [
    "#\n",
    "# Clean time-related columns as described above.\n",
    "#\n",
    "\n",
    "# Attempt to apply pd.to_datetime() to the EVENT_DATE column.\n",
    "goose_data['EVENT_DATE'] = pd.to_datetime(goose_data['EVENT_DATE'], format='%m/%d/%Y', errors='coerce')\n",
    "\n",
    "# Assemble date guesses from the EVENT_MONTH, EVENT_DAY, and EVENT_YEAR columns.\n",
    "dates_from_columns = pd.to_datetime(goose_data['EVENT_MONTH'].apply(str) + '/' + goose_data['EVENT_DAY'].apply(str) + '/' + goose_data['EVENT_YEAR'].apply(str), format='%m/%d/%Y', errors='coerce')\n",
    "\n",
    "# Fill in all NaT values that can be filled with the guesses from the previous line.\n",
    "goose_data['EVENT_DATE'] = goose_data['EVENT_DATE'].fillna(dates_from_columns)\n",
    "\n",
    "# Remove all rows where EVENT_DATE is still NaT after the above operations.\n",
    "goose_data = goose_data[goose_data['EVENT_DATE'].notna()]\n",
    "\n",
    "# Drop the EVENT_MONTH, EVENT_DAY, and EVENT_YEAR columns as they are no longer needed.\n",
    "goose_data = goose_data.drop(labels=['EVENT_MONTH', 'EVENT_DAY', 'EVENT_YEAR'], axis=1)"
   ]
  },
  {
   "cell_type": "markdown",
   "id": "6931cafd",
   "metadata": {},
   "source": [
    "Location data is also vital to analysis, so abit of cleaning will have to be done."
   ]
  },
  {
   "cell_type": "code",
   "execution_count": null,
   "id": "66769a78",
   "metadata": {},
   "outputs": [
    {
     "data": {
      "text/html": [
       "<div>\n",
       "<style scoped>\n",
       "    .dataframe tbody tr th:only-of-type {\n",
       "        vertical-align: middle;\n",
       "    }\n",
       "\n",
       "    .dataframe tbody tr th {\n",
       "        vertical-align: top;\n",
       "    }\n",
       "\n",
       "    .dataframe thead th {\n",
       "        text-align: right;\n",
       "    }\n",
       "</style>\n",
       "<table border=\"1\" class=\"dataframe\">\n",
       "  <thead>\n",
       "    <tr style=\"text-align: right;\">\n",
       "      <th></th>\n",
       "      <th>RECORD_ID</th>\n",
       "      <th>EVENT_TYPE</th>\n",
       "      <th>BAND</th>\n",
       "      <th>ORIGINAL_BAND</th>\n",
       "      <th>OTHER_BANDS</th>\n",
       "      <th>EVENT_DATE</th>\n",
       "      <th>SPECIES_ID</th>\n",
       "      <th>ISO_COUNTRY</th>\n",
       "      <th>ISO_SUBDIVISION</th>\n",
       "      <th>LAT_DD</th>\n",
       "      <th>LON_DD</th>\n",
       "      <th>COORD_PREC</th>\n",
       "      <th>BIRD_STATUS</th>\n",
       "      <th>PERMIT</th>\n",
       "      <th>BAND_STATUS</th>\n",
       "      <th>BAND_TYPE</th>\n",
       "    </tr>\n",
       "  </thead>\n",
       "  <tbody>\n",
       "  </tbody>\n",
       "</table>\n",
       "</div>"
      ],
      "text/plain": [
       "Empty DataFrame\n",
       "Columns: [RECORD_ID, EVENT_TYPE, BAND, ORIGINAL_BAND, OTHER_BANDS, EVENT_DATE, SPECIES_ID, ISO_COUNTRY, ISO_SUBDIVISION, LAT_DD, LON_DD, COORD_PREC, BIRD_STATUS, PERMIT, BAND_STATUS, BAND_TYPE]\n",
       "Index: []"
      ]
     },
     "metadata": {},
     "output_type": "display_data"
    }
   ],
   "source": [
    "#\n",
    "# Clean the coordinates columns as described above.\n",
    "#\n",
    "\n",
    "# Filter out all rows where LAT_DD or LON_DD are NaN.\n",
    "goose_data = goose_data[goose_data['LAT_DD'].notna() & goose_data['LON_DD'].notna()]\n",
    "\n",
    "display(goose_data)"
   ]
  }
 ],
 "metadata": {
  "kernelspec": {
   "display_name": "base",
   "language": "python",
   "name": "python3"
  },
  "language_info": {
   "codemirror_mode": {
    "name": "ipython",
    "version": 3
   },
   "file_extension": ".py",
   "mimetype": "text/x-python",
   "name": "python",
   "nbconvert_exporter": "python",
   "pygments_lexer": "ipython3",
   "version": "3.12.7"
  }
 },
 "nbformat": 4,
 "nbformat_minor": 5
}
